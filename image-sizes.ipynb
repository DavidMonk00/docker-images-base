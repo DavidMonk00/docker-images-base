{
 "cells": [
  {
   "cell_type": "code",
   "execution_count": 5,
   "metadata": {},
   "outputs": [],
   "source": [
    "import pandas as pd\n",
    "import seaborn as sn\n",
    "from matplotlib import pyplot as plt\n",
    "\n",
    "%matplotlib inline"
   ]
  },
  {
   "cell_type": "code",
   "execution_count": 10,
   "metadata": {},
   "outputs": [],
   "source": [
    "data = pd.DataFrame({\n",
    "    'image': ['base', 'boost', 'uhal', 'emp', \n",
    "              'base', 'boost', 'uhal',\n",
    "              'base', 'boost', 'uhal',\n",
    "              'boost', 'boost', 'boost'\n",
    "             ],\n",
    "    'OS': ['armv7hf:CentOS 7', 'armv7hf:CentOS 7', 'armv7hf:CentOS 7', 'armv7hf:CentOS 7', \n",
    "           'aarch64:CentOS 8', 'aarch64:CentOS 8', 'aarch64:CentOS 8',\n",
    "           'armv7hf:alpine', 'armv7hf:alpine', 'armv7hf:alpine',\n",
    "           'armv7hf:CentOS 7:cleanbuild', 'aarch64:CentOS 8:cleanbuild', 'armv7hf:alpine:cleanbuild'\n",
    "          ],\n",
    "    'Size (MB)': [712, 886, 1770, 1890, \n",
    "                  267, 1880, 3710,\n",
    "                  29, 431, 1170,\n",
    "                  2120, 1730, 1670\n",
    "                 ]\n",
    "})"
   ]
  },
  {
   "cell_type": "code",
   "execution_count": 11,
   "metadata": {},
   "outputs": [
    {
     "data": {
      "text/html": [
       "<div>\n",
       "<style scoped>\n",
       "    .dataframe tbody tr th:only-of-type {\n",
       "        vertical-align: middle;\n",
       "    }\n",
       "\n",
       "    .dataframe tbody tr th {\n",
       "        vertical-align: top;\n",
       "    }\n",
       "\n",
       "    .dataframe thead th {\n",
       "        text-align: right;\n",
       "    }\n",
       "</style>\n",
       "<table border=\"1\" class=\"dataframe\">\n",
       "  <thead>\n",
       "    <tr style=\"text-align: right;\">\n",
       "      <th></th>\n",
       "      <th>image</th>\n",
       "      <th>OS</th>\n",
       "      <th>Size (MB)</th>\n",
       "    </tr>\n",
       "  </thead>\n",
       "  <tbody>\n",
       "    <tr>\n",
       "      <th>0</th>\n",
       "      <td>base</td>\n",
       "      <td>armv7hf:CentOS 7</td>\n",
       "      <td>712</td>\n",
       "    </tr>\n",
       "    <tr>\n",
       "      <th>1</th>\n",
       "      <td>boost</td>\n",
       "      <td>armv7hf:CentOS 7</td>\n",
       "      <td>886</td>\n",
       "    </tr>\n",
       "    <tr>\n",
       "      <th>2</th>\n",
       "      <td>uhal</td>\n",
       "      <td>armv7hf:CentOS 7</td>\n",
       "      <td>1770</td>\n",
       "    </tr>\n",
       "    <tr>\n",
       "      <th>3</th>\n",
       "      <td>emp</td>\n",
       "      <td>armv7hf:CentOS 7</td>\n",
       "      <td>1890</td>\n",
       "    </tr>\n",
       "    <tr>\n",
       "      <th>4</th>\n",
       "      <td>base</td>\n",
       "      <td>aarch64:CentOS 8</td>\n",
       "      <td>267</td>\n",
       "    </tr>\n",
       "    <tr>\n",
       "      <th>5</th>\n",
       "      <td>boost</td>\n",
       "      <td>aarch64:CentOS 8</td>\n",
       "      <td>1880</td>\n",
       "    </tr>\n",
       "    <tr>\n",
       "      <th>6</th>\n",
       "      <td>uhal</td>\n",
       "      <td>aarch64:CentOS 8</td>\n",
       "      <td>3710</td>\n",
       "    </tr>\n",
       "    <tr>\n",
       "      <th>7</th>\n",
       "      <td>base</td>\n",
       "      <td>armv7hf:alpine</td>\n",
       "      <td>29</td>\n",
       "    </tr>\n",
       "    <tr>\n",
       "      <th>8</th>\n",
       "      <td>boost</td>\n",
       "      <td>armv7hf:alpine</td>\n",
       "      <td>431</td>\n",
       "    </tr>\n",
       "    <tr>\n",
       "      <th>9</th>\n",
       "      <td>uhal</td>\n",
       "      <td>armv7hf:alpine</td>\n",
       "      <td>1170</td>\n",
       "    </tr>\n",
       "    <tr>\n",
       "      <th>10</th>\n",
       "      <td>boost</td>\n",
       "      <td>armv7hf:CentOS 7:cleanbuild</td>\n",
       "      <td>2120</td>\n",
       "    </tr>\n",
       "    <tr>\n",
       "      <th>11</th>\n",
       "      <td>boost</td>\n",
       "      <td>aarch64:CentOS 8:cleanbuild</td>\n",
       "      <td>1730</td>\n",
       "    </tr>\n",
       "    <tr>\n",
       "      <th>12</th>\n",
       "      <td>boost</td>\n",
       "      <td>armv7hf:alpine:cleanbuild</td>\n",
       "      <td>1670</td>\n",
       "    </tr>\n",
       "  </tbody>\n",
       "</table>\n",
       "</div>"
      ],
      "text/plain": [
       "    image                           OS  Size (MB)\n",
       "0    base             armv7hf:CentOS 7        712\n",
       "1   boost             armv7hf:CentOS 7        886\n",
       "2    uhal             armv7hf:CentOS 7       1770\n",
       "3     emp             armv7hf:CentOS 7       1890\n",
       "4    base             aarch64:CentOS 8        267\n",
       "5   boost             aarch64:CentOS 8       1880\n",
       "6    uhal             aarch64:CentOS 8       3710\n",
       "7    base               armv7hf:alpine         29\n",
       "8   boost               armv7hf:alpine        431\n",
       "9    uhal               armv7hf:alpine       1170\n",
       "10  boost  armv7hf:CentOS 7:cleanbuild       2120\n",
       "11  boost  aarch64:CentOS 8:cleanbuild       1730\n",
       "12  boost    armv7hf:alpine:cleanbuild       1670"
      ]
     },
     "execution_count": 11,
     "metadata": {},
     "output_type": "execute_result"
    }
   ],
   "source": [
    "data"
   ]
  },
  {
   "cell_type": "code",
   "execution_count": 12,
   "metadata": {},
   "outputs": [
    {
     "data": {
      "text/plain": [
       "<matplotlib.axes._subplots.AxesSubplot at 0x7fce998c81d0>"
      ]
     },
     "execution_count": 12,
     "metadata": {},
     "output_type": "execute_result"
    },
    {
     "data": {
      "image/png": "[encoded data removed]",
      "text/plain": [
       "<Figure size 1152x864 with 1 Axes>"
      ]
     },
     "metadata": {
      "needs_background": "light"
     },
     "output_type": "display_data"
    }
   ],
   "source": [
    "plt.figure(figsize=(16, 12))\n",
    "sn.barplot(x='image', y='Size (MB)', hue='OS', data=data)"
   ]
  },
  {
   "cell_type": "code",
   "execution_count": null,
   "metadata": {},
   "outputs": [],
   "source": []
  },
  {
   "cell_type": "code",
   "execution_count": null,
   "metadata": {},
   "outputs": [],
   "source": []
  }
 ],
 "metadata": {
  "kernelspec": {
   "display_name": "Python (ml)",
   "language": "python",
   "name": "ml"
  },
  "language_info": {
   "codemirror_mode": {
    "name": "ipython",
    "version": 3
   },
   "file_extension": ".py",
   "mimetype": "text/x-python",
   "name": "python",
   "nbconvert_exporter": "python",
   "pygments_lexer": "ipython3",
   "version": "3.7.6"
  }
 },
 "nbformat": 4,
 "nbformat_minor": 2
}
